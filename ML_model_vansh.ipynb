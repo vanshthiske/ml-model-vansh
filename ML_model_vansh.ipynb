{
 "cells": [
  {
   "cell_type": "code",
   "execution_count": 1,
   "id": "52fad26d-d0ea-4611-bffe-39386143f262",
   "metadata": {},
   "outputs": [
    {
     "name": "stdout",
     "output_type": "stream",
     "text": [
      "Mean Squared Error:3.6710129878857174\n",
      "Coefficients:[2.99610364]\n",
      "Intercept:5.41268037742287\n"
     ]
    }
   ],
   "source": [
    "import numpy as np\n",
    "from sklearn.model_selection import train_test_split\n",
    "from sklearn.linear_model import LinearRegression\n",
    "from sklearn.metrics import mean_squared_error\n",
    "np.random.seed(0)                          # Generate some sample data\n",
    "x =np.random.rand(100, 1)*10               # 100 rows of single-feature data\n",
    "y =3*x.squeeze()+5+np.random.randn(100)*2  # Linear relationship with noise\n",
    "x_train,x_test,y_train,y_test=train_test_split(x,y,test_size=0.2,random_state=42)             # Split the data into training and testing sets\n",
    "model=LinearRegression()                   # Create a linear regression model\n",
    "model.fit(x_train,y_train)                 # Train the model\n",
    "y_pred=model.predict(x_test)               # Predict using the test set\n",
    "mse=mean_squared_error(y_test,y_pred)      # Evaluate the model\n",
    "print(f\"Mean Squared Error:{mse}\")\n",
    "print(f\"Coefficients:{model.coef_}\")       # Display model coefficients\n",
    "print(f\"Intercept:{model.intercept_}\")"
   ]
  },
  {
   "cell_type": "code",
   "execution_count": null,
   "id": "06d54ea3-9aea-419f-8eaf-c4b226a020dd",
   "metadata": {},
   "outputs": [],
   "source": []
  }
 ],
 "metadata": {
  "kernelspec": {
   "display_name": "Python 3 (ipykernel)",
   "language": "python",
   "name": "python3"
  },
  "language_info": {
   "codemirror_mode": {
    "name": "ipython",
    "version": 3
   },
   "file_extension": ".py",
   "mimetype": "text/x-python",
   "name": "python",
   "nbconvert_exporter": "python",
   "pygments_lexer": "ipython3",
   "version": "3.12.4"
  }
 },
 "nbformat": 4,
 "nbformat_minor": 5
}
